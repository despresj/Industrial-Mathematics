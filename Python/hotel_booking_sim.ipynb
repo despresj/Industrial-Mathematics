{
 "cells": [
  {
   "cell_type": "code",
   "execution_count": 47,
   "metadata": {},
   "outputs": [],
   "source": [
    "import pandas as pd\n",
    "import numpy as np"
   ]
  },
  {
   "cell_type": "code",
   "execution_count": 48,
   "metadata": {},
   "outputs": [],
   "source": [
    "df = pd.read_csv(\"../data/hotel.csv\", index_col=0, parse_dates=True)\n",
    "df.not_canceled = df.not_canceled.astype(float)\n",
    "df[df.hotel==\"City Hotel\"]\n",
    "df = df.drop([\"hotel\"], axis=1)"
   ]
  },
  {
   "cell_type": "code",
   "execution_count": 49,
   "metadata": {},
   "outputs": [],
   "source": [
    "df = pd.get_dummies(df)\n",
    "df = df.replace(np.nan, 0)"
   ]
  },
  {
   "cell_type": "code",
   "execution_count": 50,
   "metadata": {},
   "outputs": [],
   "source": [
    "def train_test_splitter(df, pct=0.8):\n",
    "    from datetime import timedelta\n",
    "    timespan = (df.index.max() - df.index.min()).days\n",
    "    train_date = round(timespan*pct)\n",
    "    train = df.index.min() + timedelta(days=train_date)\n",
    "    return [df[df.index <= train], df[df.index > train]]\n",
    "\n",
    "\n",
    "train, test = train_test_splitter(df, 0.8)"
   ]
  },
  {
   "cell_type": "code",
   "execution_count": 51,
   "metadata": {},
   "outputs": [],
   "source": [
    "X_train = train.drop([\"not_canceled\"], axis=1)\n",
    "X_test = test.drop([\"not_canceled\"], axis=1)\n",
    "y_train = train.not_canceled\n",
    "y_test = test.not_canceled"
   ]
  },
  {
   "cell_type": "code",
   "execution_count": 52,
   "metadata": {},
   "outputs": [],
   "source": [
    "from sklearn.linear_model import LogisticRegression\n",
    "clf = LogisticRegression(random_state=0, max_iter=5000).fit(X_train, y_train)\n",
    "y_pred = clf.predict(X_train)"
   ]
  },
  {
   "cell_type": "code",
   "execution_count": 53,
   "metadata": {},
   "outputs": [
    {
     "data": {
      "text/plain": [
       "array([[12250, 19086],\n",
       "       [  987, 50082]])"
      ]
     },
     "execution_count": 53,
     "metadata": {},
     "output_type": "execute_result"
    }
   ],
   "source": [
    "from sklearn.metrics import confusion_matrix\n",
    "confusion_matrix(y_train, y_pred)\n",
    "# bad but oh well, this is the first thing I would imporve"
   ]
  },
  {
   "cell_type": "code",
   "execution_count": 54,
   "metadata": {},
   "outputs": [],
   "source": [
    "p_arrival = clf.predict_proba(X_test)\n",
    "p_arrival = p_arrival[:,1]"
   ]
  },
  {
   "cell_type": "code",
   "execution_count": 55,
   "metadata": {},
   "outputs": [],
   "source": [
    "from scipy.stats import binom"
   ]
  },
  {
   "cell_type": "code",
   "execution_count": 56,
   "metadata": {},
   "outputs": [],
   "source": [
    "def capacity_max(p, rooms=100, loss=4, min_p=0.065):\n",
    "    E, E_m1, Fx, P_overbook, bookings = 0, 0, 0, 0, rooms\n",
    "    if p < min_p:  \n",
    "        bookings = rooms * 10\n",
    "    else:\n",
    "        while(E_m1 >= E):\n",
    "            E = bookings * Fx - loss * ((bookings - rooms) * P_overbook)\n",
    "            Fx = binom.cdf(rooms, bookings, p)\n",
    "            bookings = bookings + 1\n",
    "            P_overbook =  1 - Fx\n",
    "            E_m1 = bookings * Fx - loss * ((bookings - rooms) * P_overbook)\n",
    "    return bookings"
   ]
  },
  {
   "cell_type": "code",
   "execution_count": 57,
   "metadata": {},
   "outputs": [
    {
     "data": {
      "text/plain": [
       "[1000, 797, 406, 276, 211, 172, 147, 129, 116, 106]"
      ]
     },
     "execution_count": 57,
     "metadata": {},
     "output_type": "execute_result"
    }
   ],
   "source": [
    "# # sanity check\n",
    "[capacity_max(p) for p in np.arange(0,1, 0.1)]"
   ]
  },
  {
   "cell_type": "code",
   "execution_count": 58,
   "metadata": {},
   "outputs": [
    {
     "name": "stderr",
     "output_type": "stream",
     "text": [
      "100%|██████████| 36985/36985 [01:14<00:00, 493.36it/s]\n"
     ]
    }
   ],
   "source": [
    "from tqdm import tqdm # progress bar\n",
    "cap_max = []\n",
    "for p in tqdm(p_arrival):\n",
    "    cf = capacity_max(p)\n",
    "    cap_max.append(cf)"
   ]
  },
  {
   "cell_type": "code",
   "execution_count": 59,
   "metadata": {},
   "outputs": [],
   "source": [
    "sim_df = pd.DataFrame(\n",
    "    {\n",
    "    \"arrived\":y_test,\n",
    "    \"p_arrival\":p_arrival,\n",
    "    \"cap_max\":cap_max\n",
    "    }, index=X_test.index\n",
    ")\n",
    "sim_df[\"cap_frac\"] = 1/sim_df.cap_max"
   ]
  },
  {
   "cell_type": "code",
   "execution_count": 60,
   "metadata": {},
   "outputs": [],
   "source": [
    "from random import randint"
   ]
  },
  {
   "cell_type": "code",
   "execution_count": 61,
   "metadata": {},
   "outputs": [],
   "source": [
    "# there is a better way to set that threashold \n",
    "# with renewal theory. well see if i get to it\n",
    "def resample_from_reservations(df, strategy=\"pred_probs\", p_thresh=0.99):\n",
    "    success = False\n",
    "    niters = 0\n",
    "    sample_rows = np.zeros(4) # winning ugly\n",
    "    while not success:\n",
    "        rand_index = randint(0, df.shape[0]-1)\n",
    "        rand_row = df.iloc[rand_index,:].values\n",
    "        sample_rows = np.vstack((sample_rows, rand_row))\n",
    "        if strategy == \"capacity\":\n",
    "            niters += 1\n",
    "            success = niters == 100\n",
    "        if strategy == \"mean_p\":\n",
    "            niters += 1\n",
    "            success = niters == 129 # number of rooms * 1/0.64\n",
    "        if strategy == \"pred_probs\":\n",
    "            success = sum(sample_rows[:, 3]) > p_thresh\n",
    "    return sum(sample_rows[:, 0])"
   ]
  },
  {
   "cell_type": "code",
   "execution_count": 62,
   "metadata": {},
   "outputs": [],
   "source": [
    "def simulate_arrivals(df, iteration=0):\n",
    "    dates = []\n",
    "    pred_probs_arrivals = []\n",
    "    mean_p_arrivals = []\n",
    "    capacity_arrivals = []\n",
    "\n",
    "    for date in df.index.unique():\n",
    "        temp = df[df.index == date]\n",
    "        pred_probs_arrivals.append(resample_from_reservations(df=temp, strategy=\"pred_probs\"))\n",
    "        mean_p_arrivals.append(resample_from_reservations(df=temp, strategy=\"mean_p\"))\n",
    "        capacity_arrivals.append(resample_from_reservations(df=temp, strategy=\"capacity\"))\n",
    "        dates.append(date)\n",
    "\n",
    "    return pd.DataFrame({\"pred_probs_arrivals\":pred_probs_arrivals,\n",
    "                \"mean_p_arrivals\":mean_p_arrivals,\n",
    "                \"capacity_arrivals\":capacity_arrivals,\n",
    "                \"trial\":iteration\n",
    "                }, index=dates)"
   ]
  },
  {
   "cell_type": "code",
   "execution_count": 63,
   "metadata": {},
   "outputs": [
    {
     "data": {
      "text/html": [
       "<div>\n",
       "<style scoped>\n",
       "    .dataframe tbody tr th:only-of-type {\n",
       "        vertical-align: middle;\n",
       "    }\n",
       "\n",
       "    .dataframe tbody tr th {\n",
       "        vertical-align: top;\n",
       "    }\n",
       "\n",
       "    .dataframe thead th {\n",
       "        text-align: right;\n",
       "    }\n",
       "</style>\n",
       "<table border=\"1\" class=\"dataframe\">\n",
       "  <thead>\n",
       "    <tr style=\"text-align: right;\">\n",
       "      <th></th>\n",
       "      <th>pred_probs_arrivals</th>\n",
       "      <th>mean_p_arrivals</th>\n",
       "      <th>capacity_arrivals</th>\n",
       "      <th>trial</th>\n",
       "    </tr>\n",
       "  </thead>\n",
       "  <tbody>\n",
       "    <tr>\n",
       "      <th>2016-10-31</th>\n",
       "      <td>75.0</td>\n",
       "      <td>77.0</td>\n",
       "      <td>69.0</td>\n",
       "      <td>0</td>\n",
       "    </tr>\n",
       "    <tr>\n",
       "      <th>2016-11-04</th>\n",
       "      <td>100.0</td>\n",
       "      <td>94.0</td>\n",
       "      <td>78.0</td>\n",
       "      <td>0</td>\n",
       "    </tr>\n",
       "    <tr>\n",
       "      <th>2016-11-07</th>\n",
       "      <td>88.0</td>\n",
       "      <td>92.0</td>\n",
       "      <td>74.0</td>\n",
       "      <td>0</td>\n",
       "    </tr>\n",
       "    <tr>\n",
       "      <th>2016-11-14</th>\n",
       "      <td>86.0</td>\n",
       "      <td>94.0</td>\n",
       "      <td>76.0</td>\n",
       "      <td>0</td>\n",
       "    </tr>\n",
       "    <tr>\n",
       "      <th>2016-11-13</th>\n",
       "      <td>68.0</td>\n",
       "      <td>69.0</td>\n",
       "      <td>52.0</td>\n",
       "      <td>0</td>\n",
       "    </tr>\n",
       "    <tr>\n",
       "      <th>...</th>\n",
       "      <td>...</td>\n",
       "      <td>...</td>\n",
       "      <td>...</td>\n",
       "      <td>...</td>\n",
       "    </tr>\n",
       "    <tr>\n",
       "      <th>2017-08-16</th>\n",
       "      <td>113.0</td>\n",
       "      <td>113.0</td>\n",
       "      <td>90.0</td>\n",
       "      <td>0</td>\n",
       "    </tr>\n",
       "    <tr>\n",
       "      <th>2017-08-22</th>\n",
       "      <td>108.0</td>\n",
       "      <td>126.0</td>\n",
       "      <td>98.0</td>\n",
       "      <td>0</td>\n",
       "    </tr>\n",
       "    <tr>\n",
       "      <th>2017-08-27</th>\n",
       "      <td>120.0</td>\n",
       "      <td>129.0</td>\n",
       "      <td>100.0</td>\n",
       "      <td>0</td>\n",
       "    </tr>\n",
       "    <tr>\n",
       "      <th>2017-08-28</th>\n",
       "      <td>118.0</td>\n",
       "      <td>129.0</td>\n",
       "      <td>100.0</td>\n",
       "      <td>0</td>\n",
       "    </tr>\n",
       "    <tr>\n",
       "      <th>2017-08-31</th>\n",
       "      <td>129.0</td>\n",
       "      <td>129.0</td>\n",
       "      <td>100.0</td>\n",
       "      <td>0</td>\n",
       "    </tr>\n",
       "  </tbody>\n",
       "</table>\n",
       "<p>306 rows × 4 columns</p>\n",
       "</div>"
      ],
      "text/plain": [
       "            pred_probs_arrivals  mean_p_arrivals  capacity_arrivals  trial\n",
       "2016-10-31                 75.0             77.0               69.0      0\n",
       "2016-11-04                100.0             94.0               78.0      0\n",
       "2016-11-07                 88.0             92.0               74.0      0\n",
       "2016-11-14                 86.0             94.0               76.0      0\n",
       "2016-11-13                 68.0             69.0               52.0      0\n",
       "...                         ...              ...                ...    ...\n",
       "2017-08-16                113.0            113.0               90.0      0\n",
       "2017-08-22                108.0            126.0               98.0      0\n",
       "2017-08-27                120.0            129.0              100.0      0\n",
       "2017-08-28                118.0            129.0              100.0      0\n",
       "2017-08-31                129.0            129.0              100.0      0\n",
       "\n",
       "[306 rows x 4 columns]"
      ]
     },
     "execution_count": 63,
     "metadata": {},
     "output_type": "execute_result"
    }
   ],
   "source": [
    "np.random.seed(2021) # dont tell maccluter were using a seed\n",
    "simulate_arrivals(df=sim_df)"
   ]
  },
  {
   "cell_type": "code",
   "execution_count": 64,
   "metadata": {},
   "outputs": [
    {
     "name": "stderr",
     "output_type": "stream",
     "text": [
      " 40%|████      | 2/5 [00:33<00:50, 16.81s/it]"
     ]
    }
   ],
   "source": [
    "sim = []\n",
    "for iteration in tqdm(range(5)):\n",
    "    np.random.seed(iteration) \n",
    "    sim.append(simulate_arrivals(df=sim_df,iteration=iteration))\n",
    "    \n",
    "simulation_df = pd.concat(sim)\n",
    "simulation_df[\"date\"] = simulation_df.index\n",
    "simulation_df.to_csv(\"../data/simulation/first_sim.csv\", index=False)"
   ]
  },
  {
   "cell_type": "code",
   "execution_count": null,
   "metadata": {},
   "outputs": [
    {
     "data": {
      "text/html": [
       "<div>\n",
       "<style scoped>\n",
       "    .dataframe tbody tr th:only-of-type {\n",
       "        vertical-align: middle;\n",
       "    }\n",
       "\n",
       "    .dataframe tbody tr th {\n",
       "        vertical-align: top;\n",
       "    }\n",
       "\n",
       "    .dataframe thead th {\n",
       "        text-align: right;\n",
       "    }\n",
       "</style>\n",
       "<table border=\"1\" class=\"dataframe\">\n",
       "  <thead>\n",
       "    <tr style=\"text-align: right;\">\n",
       "      <th></th>\n",
       "      <th>pred_probs_arrivals</th>\n",
       "      <th>mean_p_arrivals</th>\n",
       "      <th>capacity_arrivals</th>\n",
       "      <th>trial</th>\n",
       "      <th>date</th>\n",
       "    </tr>\n",
       "  </thead>\n",
       "  <tbody>\n",
       "    <tr>\n",
       "      <th>0</th>\n",
       "      <td>81.0</td>\n",
       "      <td>80.0</td>\n",
       "      <td>62.0</td>\n",
       "      <td>0</td>\n",
       "      <td>2016-10-31</td>\n",
       "    </tr>\n",
       "    <tr>\n",
       "      <th>1</th>\n",
       "      <td>101.0</td>\n",
       "      <td>92.0</td>\n",
       "      <td>77.0</td>\n",
       "      <td>0</td>\n",
       "      <td>2016-11-04</td>\n",
       "    </tr>\n",
       "    <tr>\n",
       "      <th>2</th>\n",
       "      <td>92.0</td>\n",
       "      <td>103.0</td>\n",
       "      <td>66.0</td>\n",
       "      <td>0</td>\n",
       "      <td>2016-11-07</td>\n",
       "    </tr>\n",
       "    <tr>\n",
       "      <th>3</th>\n",
       "      <td>84.0</td>\n",
       "      <td>86.0</td>\n",
       "      <td>73.0</td>\n",
       "      <td>0</td>\n",
       "      <td>2016-11-14</td>\n",
       "    </tr>\n",
       "    <tr>\n",
       "      <th>4</th>\n",
       "      <td>79.0</td>\n",
       "      <td>72.0</td>\n",
       "      <td>53.0</td>\n",
       "      <td>0</td>\n",
       "      <td>2016-11-13</td>\n",
       "    </tr>\n",
       "    <tr>\n",
       "      <th>...</th>\n",
       "      <td>...</td>\n",
       "      <td>...</td>\n",
       "      <td>...</td>\n",
       "      <td>...</td>\n",
       "      <td>...</td>\n",
       "    </tr>\n",
       "    <tr>\n",
       "      <th>1525</th>\n",
       "      <td>116.0</td>\n",
       "      <td>119.0</td>\n",
       "      <td>92.0</td>\n",
       "      <td>4</td>\n",
       "      <td>2017-08-16</td>\n",
       "    </tr>\n",
       "    <tr>\n",
       "      <th>1526</th>\n",
       "      <td>111.0</td>\n",
       "      <td>123.0</td>\n",
       "      <td>98.0</td>\n",
       "      <td>4</td>\n",
       "      <td>2017-08-22</td>\n",
       "    </tr>\n",
       "    <tr>\n",
       "      <th>1527</th>\n",
       "      <td>120.0</td>\n",
       "      <td>129.0</td>\n",
       "      <td>100.0</td>\n",
       "      <td>4</td>\n",
       "      <td>2017-08-27</td>\n",
       "    </tr>\n",
       "    <tr>\n",
       "      <th>1528</th>\n",
       "      <td>118.0</td>\n",
       "      <td>129.0</td>\n",
       "      <td>100.0</td>\n",
       "      <td>4</td>\n",
       "      <td>2017-08-28</td>\n",
       "    </tr>\n",
       "    <tr>\n",
       "      <th>1529</th>\n",
       "      <td>129.0</td>\n",
       "      <td>129.0</td>\n",
       "      <td>100.0</td>\n",
       "      <td>4</td>\n",
       "      <td>2017-08-31</td>\n",
       "    </tr>\n",
       "  </tbody>\n",
       "</table>\n",
       "<p>1530 rows × 5 columns</p>\n",
       "</div>"
      ],
      "text/plain": [
       "      pred_probs_arrivals  mean_p_arrivals  capacity_arrivals  trial  \\\n",
       "0                    81.0             80.0               62.0      0   \n",
       "1                   101.0             92.0               77.0      0   \n",
       "2                    92.0            103.0               66.0      0   \n",
       "3                    84.0             86.0               73.0      0   \n",
       "4                    79.0             72.0               53.0      0   \n",
       "...                   ...              ...                ...    ...   \n",
       "1525                116.0            119.0               92.0      4   \n",
       "1526                111.0            123.0               98.0      4   \n",
       "1527                120.0            129.0              100.0      4   \n",
       "1528                118.0            129.0              100.0      4   \n",
       "1529                129.0            129.0              100.0      4   \n",
       "\n",
       "            date  \n",
       "0     2016-10-31  \n",
       "1     2016-11-04  \n",
       "2     2016-11-07  \n",
       "3     2016-11-14  \n",
       "4     2016-11-13  \n",
       "...          ...  \n",
       "1525  2017-08-16  \n",
       "1526  2017-08-22  \n",
       "1527  2017-08-27  \n",
       "1528  2017-08-28  \n",
       "1529  2017-08-31  \n",
       "\n",
       "[1530 rows x 5 columns]"
      ]
     },
     "execution_count": 44,
     "metadata": {},
     "output_type": "execute_result"
    }
   ],
   "source": [
    "simulation_results = pd.read_csv(\"../data/simulation/first_sim.csv\")\n",
    "simulation_results"
   ]
  }
 ],
 "metadata": {
  "interpreter": {
   "hash": "46adb795152d5db59f955a662f1f645c8cf39f91042255151212cfaad4a46d3d"
  },
  "kernelspec": {
   "display_name": "Python 3.9.8 64-bit ('my_env': venv)",
   "language": "python",
   "name": "python3"
  },
  "language_info": {
   "codemirror_mode": {
    "name": "ipython",
    "version": 3
   },
   "file_extension": ".py",
   "mimetype": "text/x-python",
   "name": "python",
   "nbconvert_exporter": "python",
   "pygments_lexer": "ipython3",
   "version": "3.9.9"
  },
  "orig_nbformat": 4
 },
 "nbformat": 4,
 "nbformat_minor": 2
}
