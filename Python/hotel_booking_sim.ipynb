{
 "cells": [
  {
   "cell_type": "code",
   "execution_count": 8,
   "metadata": {},
   "outputs": [],
   "source": [
    "import pandas as pd\n",
    "import numpy as np"
   ]
  },
  {
   "cell_type": "code",
   "execution_count": 9,
   "metadata": {},
   "outputs": [],
   "source": [
    "df = pd.read_csv(\"../data/hotel.csv\", index_col=0, parse_dates=True)\n",
    "df.not_canceled = df.not_canceled.astype(float)\n",
    "df[df.hotel==\"Resort Hotel\"]\n",
    "df = df.drop([\"hotel\"], axis=1)"
   ]
  },
  {
   "cell_type": "code",
   "execution_count": 10,
   "metadata": {},
   "outputs": [],
   "source": [
    "\n",
    "df = pd.get_dummies(df)\n",
    "df = df.replace(np.nan, 0)"
   ]
  },
  {
   "cell_type": "code",
   "execution_count": 11,
   "metadata": {},
   "outputs": [],
   "source": [
    "def train_test_splitter(df, pct=0.8):\n",
    "    from datetime import timedelta\n",
    "    timespan = (df.index.max() - df.index.min()).days\n",
    "    train_date = round(timespan*pct)\n",
    "    train = df.index.min() + timedelta(days=train_date)\n",
    "    return [df[df.index <= train], df[df.index > train]]\n",
    "\n",
    "\n",
    "train, test = train_test_splitter(df, 0.8)"
   ]
  },
  {
   "cell_type": "code",
   "execution_count": 13,
   "metadata": {},
   "outputs": [],
   "source": [
    "X_train = train.drop([\"not_canceled\"], axis=1)\n",
    "X_test = test.drop([\"not_canceled\"], axis=1)\n",
    "y_train = train.not_canceled\n",
    "y_test = test.not_canceled"
   ]
  },
  {
   "cell_type": "code",
   "execution_count": 14,
   "metadata": {},
   "outputs": [],
   "source": [
    "from sklearn.linear_model import LogisticRegression\n",
    "clf = LogisticRegression(random_state=0, max_iter=5000).fit(X_train, y_train)\n",
    "y_pred = clf.predict(X_train)"
   ]
  },
  {
   "cell_type": "code",
   "execution_count": 15,
   "metadata": {},
   "outputs": [
    {
     "data": {
      "text/plain": [
       "array([[12250, 19086],\n",
       "       [  987, 50082]])"
      ]
     },
     "execution_count": 15,
     "metadata": {},
     "output_type": "execute_result"
    }
   ],
   "source": [
    "from sklearn.metrics import confusion_matrix\n",
    "confusion_matrix(y_train, y_pred)\n",
    "# bad but oh well, this is the first thing I would imporve"
   ]
  },
  {
   "cell_type": "code",
   "execution_count": 16,
   "metadata": {},
   "outputs": [],
   "source": [
    "p_arrival = clf.predict_proba(X_test)\n",
    "p_arrival = p_arrival[:,1]"
   ]
  },
  {
   "cell_type": "code",
   "execution_count": 17,
   "metadata": {},
   "outputs": [],
   "source": [
    "from scipy.stats import binom"
   ]
  },
  {
   "cell_type": "code",
   "execution_count": 18,
   "metadata": {},
   "outputs": [],
   "source": [
    "def capacity_max(p, rooms=100, loss=4, min_p=0.065):\n",
    "    E, E_m1, Fx, P_overbook, bookings = 0, 0, 0, 0, rooms\n",
    "    if p < min_p:  \n",
    "        bookings = rooms * 10\n",
    "    else:\n",
    "        while(E_m1 >= E):\n",
    "            E = bookings * Fx - loss * ((bookings - rooms) * P_overbook)\n",
    "            Fx = binom.cdf(rooms, bookings, p)\n",
    "            bookings = bookings + 1\n",
    "            P_overbook =  1 - Fx\n",
    "            E_m1 = bookings * Fx - loss * ((bookings - rooms) * P_overbook)\n",
    "    return bookings"
   ]
  },
  {
   "cell_type": "code",
   "execution_count": 19,
   "metadata": {},
   "outputs": [
    {
     "name": "stdout",
     "output_type": "stream",
     "text": [
      "1000 0.0\n",
      "797 0.1\n",
      "406 0.2\n",
      "276 0.30000000000000004\n",
      "211 0.4\n",
      "172 0.5\n",
      "147 0.6000000000000001\n",
      "129 0.7000000000000001\n",
      "116 0.8\n",
      "106 0.9\n"
     ]
    }
   ],
   "source": [
    "# sanity check\n",
    "for p in np.arange(0, 1, 0.1):\n",
    "    print(capacity_max(p), p)"
   ]
  },
  {
   "cell_type": "code",
   "execution_count": 20,
   "metadata": {},
   "outputs": [
    {
     "name": "stderr",
     "output_type": "stream",
     "text": [
      "100%|██████████| 36985/36985 [01:23<00:00, 444.85it/s]\n"
     ]
    }
   ],
   "source": [
    "from tqdm import tqdm # progress bar\n",
    "cap_max = []\n",
    "for p in tqdm(p_arrival):\n",
    "    cf = capacity_max(p)\n",
    "    cap_max.append(cf)"
   ]
  },
  {
   "cell_type": "code",
   "execution_count": 21,
   "metadata": {},
   "outputs": [
    {
     "data": {
      "text/plain": [
       "array([0.00806452])"
      ]
     },
     "execution_count": 21,
     "metadata": {},
     "output_type": "execute_result"
    }
   ],
   "source": [
    "sim_df = pd.DataFrame(\n",
    "    {\n",
    "    \"arrived\":y_test,\n",
    "    \"p_arrival\":p_arrival,\n",
    "    \"cap_max\":cap_max\n",
    "    }, index=X_test.index\n",
    ")\n",
    "sim_df[\"cap_frac\"] = 1/sim_df.cap_max\n",
    "test = sim_df[sim_df.index == \"2016-10-31\"]\n",
    "samp = test.sample(1)\n",
    "samp.cap_frac.values"
   ]
  },
  {
   "cell_type": "code",
   "execution_count": 22,
   "metadata": {},
   "outputs": [],
   "source": [
    "from random import randint"
   ]
  },
  {
   "cell_type": "code",
   "execution_count": 25,
   "metadata": {},
   "outputs": [],
   "source": [
    "# there is a better way to set that threashold \n",
    "# with renewal theory. well see if i get to it\n",
    "def resample_from_reservations(df, strategy=\"pred_probs\", p_thresh=0.99):\n",
    "    success = False\n",
    "    niters = 0\n",
    "    sample_rows = np.zeros(4) # winning ugly\n",
    "    while not success:\n",
    "        rand_index = randint(0, df.shape[0]-1)\n",
    "        rand_row = df.iloc[rand_index,:].values\n",
    "        sample_rows = np.vstack((sample_rows, rand_row))\n",
    "        if strategy == \"capacity\":\n",
    "            niters += 1\n",
    "            success = niters == 100\n",
    "        if strategy == \"mean_p\":\n",
    "            niters += 1\n",
    "            success = niters == 129 # number of rooms * 1/0.64\n",
    "        if strategy == \"pred_probs\":\n",
    "            success = sum(sample_rows[:, 3]) > p_thresh\n",
    "    return sum(sample_rows[:, 0])\n",
    "\n"
   ]
  },
  {
   "cell_type": "code",
   "execution_count": 26,
   "metadata": {},
   "outputs": [],
   "source": [
    "dates = []\n",
    "pred_probs_arrivals = []\n",
    "mean_p_arrivals = []\n",
    "capacity_arrivals = []\n",
    "for date in sim_df.index.unique():\n",
    "    temp = sim_df[sim_df.index == date]\n",
    "    pred_probs_arrivals.append(resample_from_reservations(df=temp, strategy=\"pred_probs\"))\n",
    "    mean_p_arrivals.append(resample_from_reservations(df=temp, strategy=\"mean_p\"))\n",
    "    capacity_arrivals.append(resample_from_reservations(df=temp, strategy=\"capacity\"))\n",
    "    dates.append(date)"
   ]
  },
  {
   "cell_type": "code",
   "execution_count": 27,
   "metadata": {},
   "outputs": [
    {
     "data": {
      "text/html": [
       "<div>\n",
       "<style scoped>\n",
       "    .dataframe tbody tr th:only-of-type {\n",
       "        vertical-align: middle;\n",
       "    }\n",
       "\n",
       "    .dataframe tbody tr th {\n",
       "        vertical-align: top;\n",
       "    }\n",
       "\n",
       "    .dataframe thead th {\n",
       "        text-align: right;\n",
       "    }\n",
       "</style>\n",
       "<table border=\"1\" class=\"dataframe\">\n",
       "  <thead>\n",
       "    <tr style=\"text-align: right;\">\n",
       "      <th></th>\n",
       "      <th>pred_probs_arrivals</th>\n",
       "      <th>mean_p_arrivals</th>\n",
       "      <th>capacity_arrivals</th>\n",
       "    </tr>\n",
       "  </thead>\n",
       "  <tbody>\n",
       "    <tr>\n",
       "      <th>2016-10-31</th>\n",
       "      <td>73.0</td>\n",
       "      <td>85.0</td>\n",
       "      <td>60.0</td>\n",
       "    </tr>\n",
       "    <tr>\n",
       "      <th>2016-11-04</th>\n",
       "      <td>98.0</td>\n",
       "      <td>98.0</td>\n",
       "      <td>77.0</td>\n",
       "    </tr>\n",
       "    <tr>\n",
       "      <th>2016-11-07</th>\n",
       "      <td>90.0</td>\n",
       "      <td>101.0</td>\n",
       "      <td>77.0</td>\n",
       "    </tr>\n",
       "    <tr>\n",
       "      <th>2016-11-14</th>\n",
       "      <td>94.0</td>\n",
       "      <td>90.0</td>\n",
       "      <td>67.0</td>\n",
       "    </tr>\n",
       "    <tr>\n",
       "      <th>2016-11-13</th>\n",
       "      <td>85.0</td>\n",
       "      <td>78.0</td>\n",
       "      <td>58.0</td>\n",
       "    </tr>\n",
       "    <tr>\n",
       "      <th>...</th>\n",
       "      <td>...</td>\n",
       "      <td>...</td>\n",
       "      <td>...</td>\n",
       "    </tr>\n",
       "    <tr>\n",
       "      <th>2017-08-16</th>\n",
       "      <td>109.0</td>\n",
       "      <td>122.0</td>\n",
       "      <td>95.0</td>\n",
       "    </tr>\n",
       "    <tr>\n",
       "      <th>2017-08-22</th>\n",
       "      <td>109.0</td>\n",
       "      <td>125.0</td>\n",
       "      <td>92.0</td>\n",
       "    </tr>\n",
       "    <tr>\n",
       "      <th>2017-08-27</th>\n",
       "      <td>120.0</td>\n",
       "      <td>129.0</td>\n",
       "      <td>100.0</td>\n",
       "    </tr>\n",
       "    <tr>\n",
       "      <th>2017-08-28</th>\n",
       "      <td>118.0</td>\n",
       "      <td>129.0</td>\n",
       "      <td>100.0</td>\n",
       "    </tr>\n",
       "    <tr>\n",
       "      <th>2017-08-31</th>\n",
       "      <td>129.0</td>\n",
       "      <td>129.0</td>\n",
       "      <td>100.0</td>\n",
       "    </tr>\n",
       "  </tbody>\n",
       "</table>\n",
       "<p>306 rows × 3 columns</p>\n",
       "</div>"
      ],
      "text/plain": [
       "            pred_probs_arrivals  mean_p_arrivals  capacity_arrivals\n",
       "2016-10-31                 73.0             85.0               60.0\n",
       "2016-11-04                 98.0             98.0               77.0\n",
       "2016-11-07                 90.0            101.0               77.0\n",
       "2016-11-14                 94.0             90.0               67.0\n",
       "2016-11-13                 85.0             78.0               58.0\n",
       "...                         ...              ...                ...\n",
       "2017-08-16                109.0            122.0               95.0\n",
       "2017-08-22                109.0            125.0               92.0\n",
       "2017-08-27                120.0            129.0              100.0\n",
       "2017-08-28                118.0            129.0              100.0\n",
       "2017-08-31                129.0            129.0              100.0\n",
       "\n",
       "[306 rows x 3 columns]"
      ]
     },
     "execution_count": 27,
     "metadata": {},
     "output_type": "execute_result"
    }
   ],
   "source": [
    "pd.DataFrame({\"pred_probs_arrivals\":pred_probs_arrivals,\n",
    "              \"mean_p_arrivals\":mean_p_arrivals,\n",
    "              \"capacity_arrivals\":capacity_arrivals\n",
    "              }, index=dates)"
   ]
  }
 ],
 "metadata": {
  "interpreter": {
   "hash": "46adb795152d5db59f955a662f1f645c8cf39f91042255151212cfaad4a46d3d"
  },
  "kernelspec": {
   "display_name": "Python 3.9.8 64-bit ('my_env': venv)",
   "language": "python",
   "name": "python3"
  },
  "language_info": {
   "codemirror_mode": {
    "name": "ipython",
    "version": 3
   },
   "file_extension": ".py",
   "mimetype": "text/x-python",
   "name": "python",
   "nbconvert_exporter": "python",
   "pygments_lexer": "ipython3",
   "version": "3.9.9"
  },
  "orig_nbformat": 4
 },
 "nbformat": 4,
 "nbformat_minor": 2
}
